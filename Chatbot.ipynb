{
 "cells": [
  {
   "cell_type": "code",
   "execution_count": 2,
   "id": "68a5e635",
   "metadata": {},
   "outputs": [
    {
     "name": "stdout",
     "output_type": "stream",
     "text": [
      "You: hello\n",
      "ChatBot: Hello! How can I assist you today?\n",
      "You: how are you\n",
      "ChatBot: I'm just a chatbot, but I'm functioning as expected! How can I help you?\n",
      "You: what is your name\n",
      "ChatBot: I'm ChatBot, your virtual assistant.\n",
      "You: what is ai in your opinion\n",
      "ChatBot: AI, or Artificial Intelligence, is the simulation of human intelligence in machines that are programmed to think, learn, and perform tasks typically requiring human cognition.\n",
      "You: than you\n",
      "ChatBot: I'm sorry, I didn't understand that. Can you please rephrase?\n",
      "You: thank you\n",
      "ChatBot: You're welcome! If you have any more questions or need further assistance, feel free to ask. Have a great day!\n",
      "You: bye\n",
      "ChatBot: Goodbye! Have a great day!\n"
     ]
    }
   ],
   "source": [
    "import re\n",
    "\n",
    "def chatbot_response(user_input):\n",
    "    user_input = user_input.lower()\n",
    "    \n",
    "    patterns = [\n",
    "        (r'hello|hi', \"Hello! How can I assist you today?\"),\n",
    "        (r'how are you', \"I'm just a chatbot, but I'm functioning as expected! How can I help you?\"),\n",
    "        (r'your name', \"I'm ChatBot, your virtual assistant.\"),\n",
    "        (r'what is ai|artificial intelligence', \"AI, or Artificial Intelligence, is the simulation of human intelligence in machines that are programmed to think, learn, and perform tasks typically requiring human cognition.\"),\n",
    "        (r'thank you|thanks', \"You're welcome! If you have any more questions or need further assistance, feel free to ask. Have a great day!\"),\n",
    "        (r'bye|goodbye', \"Goodbye! Have a great day!\"),\n",
    "    ]\n",
    "    \n",
    "    for pattern, response in patterns:\n",
    "        if re.search(pattern, user_input):\n",
    "            return response\n",
    "    \n",
    "    return \"I'm sorry, I didn't understand that. Can you please rephrase?\"\n",
    "\n",
    "while True:\n",
    "    user_input = input(\"You: \")\n",
    "    if user_input.lower() in [\"bye\", \"goodbye\"]:\n",
    "        print(\"ChatBot: Goodbye! Have a great day!\")\n",
    "        break\n",
    "    response = chatbot_response(user_input)\n",
    "    print(f\"ChatBot: {response}\")\n"
   ]
  },
  {
   "cell_type": "code",
   "execution_count": null,
   "id": "4811de70",
   "metadata": {},
   "outputs": [],
   "source": []
  }
 ],
 "metadata": {
  "kernelspec": {
   "display_name": "Python 3 (ipykernel)",
   "language": "python",
   "name": "python3"
  },
  "language_info": {
   "codemirror_mode": {
    "name": "ipython",
    "version": 3
   },
   "file_extension": ".py",
   "mimetype": "text/x-python",
   "name": "python",
   "nbconvert_exporter": "python",
   "pygments_lexer": "ipython3",
   "version": "3.11.5"
  }
 },
 "nbformat": 4,
 "nbformat_minor": 5
}
